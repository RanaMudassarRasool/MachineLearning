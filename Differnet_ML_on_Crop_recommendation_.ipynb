{
  "nbformat": 4,
  "nbformat_minor": 0,
  "metadata": {
    "colab": {
      "provenance": [],
      "authorship_tag": "ABX9TyPZICTlthVU1lr9cUDEKDO5",
      "include_colab_link": true
    },
    "kernelspec": {
      "name": "python3",
      "display_name": "Python 3"
    },
    "language_info": {
      "name": "python"
    }
  },
  "cells": [
    {
      "cell_type": "markdown",
      "metadata": {
        "id": "view-in-github",
        "colab_type": "text"
      },
      "source": [
        "<a href=\"https://colab.research.google.com/github/ranamaddy/MachineLearning/blob/main/Differnet_ML_on_Crop_recommendation_.ipynb\" target=\"_parent\"><img src=\"https://colab.research.google.com/assets/colab-badge.svg\" alt=\"Open In Colab\"/></a>"
      ]
    },
    {
      "cell_type": "code",
      "source": [
        "from google.colab import drive\n",
        "drive.mount('/content/drive')\n"
      ],
      "metadata": {
        "colab": {
          "base_uri": "https://localhost:8080/"
        },
        "id": "DcCLjvKwBXGS",
        "outputId": "61a5dc22-a7d3-45fe-d7dd-4ac17f671ce5"
      },
      "execution_count": 1,
      "outputs": [
        {
          "output_type": "stream",
          "name": "stdout",
          "text": [
            "Mounted at /content/drive\n"
          ]
        }
      ]
    },
    {
      "cell_type": "markdown",
      "source": [
        "**linear regression model**"
      ],
      "metadata": {
        "id": "d1tHkMoQDVhj"
      }
    },
    {
      "cell_type": "code",
      "execution_count": 11,
      "metadata": {
        "id": "CFm-gud69-0J",
        "colab": {
          "base_uri": "https://localhost:8080/"
        },
        "outputId": "a5e851e1-6da8-42a3-b4cc-57b445b299c9"
      },
      "outputs": [
        {
          "output_type": "stream",
          "name": "stdout",
          "text": [
            "N                int64\n",
            "P                int64\n",
            "K                int64\n",
            "temperature    float64\n",
            "humidity       float64\n",
            "ph             float64\n",
            "rainfall       float64\n",
            "label           object\n",
            "dtype: object\n",
            "Coefficients: [ 0.0308931  -0.06627372  0.04921468  0.15265476  0.09595374  0.63933752\n",
            "  0.00894248]\n",
            "Intercept: -5.686241317892829\n",
            "Mean Squared Error: 24.55558695720143\n"
          ]
        }
      ],
      "source": [
        "import pandas as pd\n",
        "from sklearn.model_selection import train_test_split\n",
        "from sklearn.linear_model import LinearRegression\n",
        "from sklearn.metrics import mean_squared_error\n",
        "# Loading the dataset\n",
        "\n",
        "data = pd.read_csv('/content/drive/MyDrive/Crop_recommendation.csv')\n",
        "# Checking for non-numeric values in the dataset\n",
        "\n",
        "print(data.dtypes)\n",
        "# Converting non-numeric values to numeric values\n",
        "\n",
        "data['label'] = pd.factorize(data['label'])[0]\n",
        "# Splitting the dataset into features and target variable\n",
        "\n",
        "X = data.drop('label', axis=1)\n",
        "y = data['label']\n",
        "# Splitting the dataset into training and testing sets\n",
        "X_train, X_test, y_train, y_test = train_test_split(X, y, test_size=0.2, random_state=42)\n",
        "# Fitting the linear regression model\n",
        "lr = LinearRegression()\n",
        "lr.fit(X_train, y_train)\n",
        "# Printing the coefficients and intercept of the linear regression model\n",
        "print(\"Coefficients:\", lr.coef_)\n",
        "print(\"Intercept:\", lr.intercept_)\n",
        "# Predicting the target variable using the linear regression model\n",
        "y_pred = lr.predict(X_test)\n",
        "# Calculating the mean squared error of the linear regression model\n",
        "mse = mean_squared_error(y_test, y_pred)\n",
        "print(\"Mean Squared Error:\", mse)"
      ]
    },
    {
      "cell_type": "markdown",
      "source": [
        "**random forest classifier**"
      ],
      "metadata": {
        "id": "GXDY0SpdDP9x"
      }
    },
    {
      "cell_type": "code",
      "source": [
        "# Importing the necessary libraries\n",
        "from sklearn.ensemble import RandomForestClassifier\n",
        "from sklearn.metrics import accuracy_score\n",
        "# Fitting the random forest classifier\n",
        "rf = RandomForestClassifier()\n",
        "rf.fit(X_train, y_train)\n",
        "# Predicting the target variable using the random forest classifier\n",
        "y_pred = rf.predict(X_test)\n",
        "# Calculating the accuracy of the random forest classifier\n",
        "accuracy = accuracy_score(y_test, y_pred)\n",
        "print(\"Accuracy:\", accuracy)"
      ],
      "metadata": {
        "colab": {
          "base_uri": "https://localhost:8080/"
        },
        "id": "FiixuM1eCObL",
        "outputId": "ccc3dc00-156f-4ec7-d808-535077741f9e"
      },
      "execution_count": 5,
      "outputs": [
        {
          "output_type": "stream",
          "name": "stdout",
          "text": [
            "Accuracy: 0.9931818181818182\n"
          ]
        }
      ]
    },
    {
      "cell_type": "markdown",
      "source": [
        "**decision tree classifier**"
      ],
      "metadata": {
        "id": "FDNjemVKDaDB"
      }
    },
    {
      "cell_type": "code",
      "source": [
        "# Importing the necessary libraries\n",
        "from sklearn.tree import DecisionTreeClassifier\n",
        "from sklearn.metrics import accuracy_score\n",
        "# Fitting the decision tree classifier\n",
        "dt = DecisionTreeClassifier()\n",
        "dt.fit(X_train, y_train)\n",
        "# Predicting the target variable using the decision tree classifier\n",
        "y_pred = dt.predict(X_test)\n",
        "# Calculating the accuracy of the decision tree classifier\n",
        "accuracy = accuracy_score(y_test, y_pred)\n",
        "print(\"Accuracy:\", accuracy)"
      ],
      "metadata": {
        "colab": {
          "base_uri": "https://localhost:8080/"
        },
        "id": "c3DKblTDCR_Z",
        "outputId": "14cef381-14e3-446c-b661-97087d77910e"
      },
      "execution_count": 6,
      "outputs": [
        {
          "output_type": "stream",
          "name": "stdout",
          "text": [
            "Accuracy: 0.9818181818181818\n"
          ]
        }
      ]
    },
    {
      "cell_type": "markdown",
      "source": [
        "**logistic regression classifier**"
      ],
      "metadata": {
        "id": "_ljIFVM3Dl6b"
      }
    },
    {
      "cell_type": "code",
      "source": [
        "# Importing the necessary libraries\n",
        "\n",
        "from sklearn.linear_model import LogisticRegression\n",
        "from sklearn.metrics import accuracy_score\n",
        "# Fitting the logistic regression classifier\n",
        "\n",
        "lr = LogisticRegression()\n",
        "lr.fit(X_train, y_train)\n",
        "# Predicting the target variable using the logistic regression classifier\n",
        "y_pred = lr.predict(X_test)\n",
        "# Calculating the accuracy of the logistic regression classifier\n",
        "accuracy = accuracy_score(y_test, y_pred)\n",
        "print(\"Accuracy:\", accuracy)"
      ],
      "metadata": {
        "colab": {
          "base_uri": "https://localhost:8080/"
        },
        "id": "cKpa9Oa2CYou",
        "outputId": "bd5b0872-e432-4d6a-c902-3714dde3084d"
      },
      "execution_count": 7,
      "outputs": [
        {
          "output_type": "stream",
          "name": "stdout",
          "text": [
            "Accuracy: 0.9454545454545454\n"
          ]
        },
        {
          "output_type": "stream",
          "name": "stderr",
          "text": [
            "/usr/local/lib/python3.9/dist-packages/sklearn/linear_model/_logistic.py:458: ConvergenceWarning: lbfgs failed to converge (status=1):\n",
            "STOP: TOTAL NO. of ITERATIONS REACHED LIMIT.\n",
            "\n",
            "Increase the number of iterations (max_iter) or scale the data as shown in:\n",
            "    https://scikit-learn.org/stable/modules/preprocessing.html\n",
            "Please also refer to the documentation for alternative solver options:\n",
            "    https://scikit-learn.org/stable/modules/linear_model.html#logistic-regression\n",
            "  n_iter_i = _check_optimize_result(\n"
          ]
        }
      ]
    },
    {
      "cell_type": "markdown",
      "source": [
        "**support vector machine classifier**"
      ],
      "metadata": {
        "id": "aaz39Mp7DukC"
      }
    },
    {
      "cell_type": "code",
      "source": [
        "# Importing the necessary libraries\n",
        "from sklearn.svm import SVC\n",
        "from sklearn.metrics import accuracy_score\n",
        "# Fitting the support vector machine classifier\n",
        "\n",
        "svm = SVC()\n",
        "svm.fit(X_train, y_train)\n",
        "# Predicting the target variable using the support vector machine classifier\n",
        "y_pred = svm.predict(X_test)\n",
        "# Calculating the accuracy of the support vector machine classifier\n",
        "accuracy = accuracy_score(y_test, y_pred)\n",
        "print(\"Accuracy:\", accuracy)\n"
      ],
      "metadata": {
        "colab": {
          "base_uri": "https://localhost:8080/"
        },
        "id": "xXa_JsjtCnPR",
        "outputId": "c2f9dcaf-cb01-4841-a5e9-80be77114d2d"
      },
      "execution_count": 8,
      "outputs": [
        {
          "output_type": "stream",
          "name": "stdout",
          "text": [
            "Accuracy: 0.9613636363636363\n"
          ]
        }
      ]
    },
    {
      "cell_type": "markdown",
      "source": [
        "**random forest classifie**"
      ],
      "metadata": {
        "id": "bpBI60gSD5TN"
      }
    },
    {
      "cell_type": "code",
      "source": [
        "# Importing the necessary libraries\n",
        "from sklearn.ensemble import RandomForestClassifier\n",
        "# Fitting the random forest classifier\n",
        "rf = RandomForestClassifier(n_estimators=100, random_state=42)\n",
        "rf.fit(X_train, y_train)\n",
        "# Predicting the target variable using the random forest classifier\n",
        "y_pred = rf.predict(X_test)\n",
        "# Calculating the accuracy of the random forest classifier\n",
        "accuracy = accuracy_score(y_test, y_pred)\n",
        "print(\"Accuracy:\", accuracy)"
      ],
      "metadata": {
        "colab": {
          "base_uri": "https://localhost:8080/"
        },
        "id": "9SyQbXtjCwnU",
        "outputId": "182af2f1-82d6-402f-bafd-a690207044bc"
      },
      "execution_count": 9,
      "outputs": [
        {
          "output_type": "stream",
          "name": "stdout",
          "text": [
            "Accuracy: 0.9931818181818182\n"
          ]
        }
      ]
    }
  ]
}